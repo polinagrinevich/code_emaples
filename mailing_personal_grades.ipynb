{
 "cells": [
  {
   "cell_type": "code",
   "execution_count": 5,
   "id": "deffd341",
   "metadata": {},
   "outputs": [],
   "source": [
    "import os\n",
    "import smtplib\n",
    "from email.header import Header\n",
    "from email.mime.text import MIMEText\n",
    "import pandas as pd\n",
    "import numpy as np"
   ]
  },
  {
   "cell_type": "code",
   "execution_count": 6,
   "id": "98c1e97b",
   "metadata": {},
   "outputs": [
    {
     "data": {
      "text/html": [
       "<div>\n",
       "<style scoped>\n",
       "    .dataframe tbody tr th:only-of-type {\n",
       "        vertical-align: middle;\n",
       "    }\n",
       "\n",
       "    .dataframe tbody tr th {\n",
       "        vertical-align: top;\n",
       "    }\n",
       "\n",
       "    .dataframe thead th {\n",
       "        text-align: right;\n",
       "    }\n",
       "</style>\n",
       "<table border=\"1\" class=\"dataframe\">\n",
       "  <thead>\n",
       "    <tr style=\"text-align: right;\">\n",
       "      <th></th>\n",
       "      <th>fam</th>\n",
       "      <th>name</th>\n",
       "      <th>parent</th>\n",
       "      <th>почта</th>\n",
       "      <th>test1</th>\n",
       "    </tr>\n",
       "  </thead>\n",
       "  <tbody>\n",
       "    <tr>\n",
       "      <th>0</th>\n",
       "      <td>Андреевская</td>\n",
       "      <td>Полина</td>\n",
       "      <td>Андреевна</td>\n",
       "      <td>pakozlova_3@edu.hse.ru</td>\n",
       "      <td>2.0</td>\n",
       "    </tr>\n",
       "    <tr>\n",
       "      <th>1</th>\n",
       "      <td>Антопкин</td>\n",
       "      <td>Олег</td>\n",
       "      <td>Геннадьевич</td>\n",
       "      <td>ogantopkin@edu.hse.ru</td>\n",
       "      <td>0.0</td>\n",
       "    </tr>\n",
       "    <tr>\n",
       "      <th>2</th>\n",
       "      <td>Болотова</td>\n",
       "      <td>Елизавета</td>\n",
       "      <td>Антоновна</td>\n",
       "      <td>eabolotova@edu.hse.ru</td>\n",
       "      <td>2.0</td>\n",
       "    </tr>\n",
       "    <tr>\n",
       "      <th>3</th>\n",
       "      <td>Бурдуков</td>\n",
       "      <td>Кирилл</td>\n",
       "      <td>Валерьевич</td>\n",
       "      <td>kvburdukov@edu.hse.ru</td>\n",
       "      <td>2.0</td>\n",
       "    </tr>\n",
       "    <tr>\n",
       "      <th>4</th>\n",
       "      <td>Габрелян</td>\n",
       "      <td>Арам</td>\n",
       "      <td>Арсенович</td>\n",
       "      <td>aagabrelyan_1@edu.hse.ru</td>\n",
       "      <td>0.0</td>\n",
       "    </tr>\n",
       "  </tbody>\n",
       "</table>\n",
       "</div>"
      ],
      "text/plain": [
       "           fam       name       parent                     почта  test1\n",
       "0  Андреевская     Полина    Андреевна    pakozlova_3@edu.hse.ru    2.0\n",
       "1     Антопкин       Олег  Геннадьевич     ogantopkin@edu.hse.ru    0.0\n",
       "2     Болотова  Елизавета    Антоновна     eabolotova@edu.hse.ru    2.0\n",
       "3     Бурдуков     Кирилл   Валерьевич     kvburdukov@edu.hse.ru    2.0\n",
       "4     Габрелян       Арам    Арсенович  aagabrelyan_1@edu.hse.ru    0.0"
      ]
     },
     "execution_count": 6,
     "metadata": {},
     "output_type": "execute_result"
    }
   ],
   "source": [
    "# импортируем ведомость\n",
    "\n",
    "marks = pd.read_excel('###', header=0)\n",
    "marks.head()"
   ]
  },
  {
   "cell_type": "code",
   "execution_count": 8,
   "id": "0393720f",
   "metadata": {},
   "outputs": [],
   "source": [
    "def send_email(recipient: str, msg_text: str, index: int):\n",
    "    \n",
    "    login = open('mail.txt', 'r').read()\n",
    "    password = open('password.txt', 'r').read()\n",
    "\n",
    "    s = smtplib.SMTP('smtp.yandex.ru', 587, timeout=10)\n",
    "    s.starttls()\n",
    "    s.login(login, password)\n",
    "\n",
    "    \n",
    "    msg = MIMEText(f'{msg_text}', 'plain', 'utf-8')\n",
    "    msg['Subject'] = Header('Текущие оценки по курсу \"###\"', 'utf-8')\n",
    "    msg['From'] = login\n",
    "    msg['To'] = recipient\n",
    "    \n",
    "    \n",
    "    try:\n",
    "        s.sendmail(msg['From'], recipient, msg.as_string())\n",
    "    except Exception as ex:\n",
    "        print(index) # добавила на случай, если код сломается на середине, и нужно будет отправить оставшиеся\n",
    "        print(ex)\n",
    "    finally:\n",
    "        s.quit()"
   ]
  },
  {
   "cell_type": "code",
   "execution_count": 10,
   "id": "e9f156e9",
   "metadata": {},
   "outputs": [
    {
     "name": "stdout",
     "output_type": "stream",
     "text": [
      "57\n",
      "'float' object has no attribute 'encode'\n"
     ]
    }
   ],
   "source": [
    "for index, row in marks.iterrows():\n",
    "  \n",
    "    name = row['name']\n",
    "    \n",
    "    cur_marks = []\n",
    "    text = ''\n",
    "    for pr in marks.columns[4:]:\n",
    "        if not np.isnan(row[pr]):\n",
    "            cur_marks.append(row[pr])\n",
    "            text += f'Проверочная {pr[-1]}: {int(row[pr])} из 3\\n'\n",
    "            \n",
    "    final_text = f'{name}, добрый день! \\n\\nВаши текущие оценки по курсу \"###\": \\n{text}\\nТекущая набранная доля баллов за лекционные проверочные составляет {np.sum(cur_marks)} / 18 ({np.round(np.sum(cur_marks)/18, 2)})\\n\\nС уважением, \\n###'\n",
    "    send_email(row['почта'], final_text, index)\n",
    "    "
   ]
  }
 ],
 "metadata": {
  "kernelspec": {
   "display_name": "Python 3 (ipykernel)",
   "language": "python",
   "name": "python3"
  },
  "language_info": {
   "codemirror_mode": {
    "name": "ipython",
    "version": 3
   },
   "file_extension": ".py",
   "mimetype": "text/x-python",
   "name": "python",
   "nbconvert_exporter": "python",
   "pygments_lexer": "ipython3",
   "version": "3.9.13"
  }
 },
 "nbformat": 4,
 "nbformat_minor": 5
}
