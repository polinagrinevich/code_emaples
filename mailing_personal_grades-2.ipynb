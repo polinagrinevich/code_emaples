{
 "cells": [
  {
   "cell_type": "code",
   "execution_count": null,
   "id": "deffd341",
   "metadata": {},
   "outputs": [],
   "source": [
    "import os\n",
    "import smtplib\n",
    "from email.header import Header\n",
    "from email.mime.text import MIMEText\n",
    "import pandas as pd\n",
    "import numpy as np"
   ]
  },
  {
   "cell_type": "code",
   "execution_count": null,
   "id": "98c1e97b",
   "metadata": {},
   "outputs": [],
   "source": [
    "# импортируем ведомость\n",
    "\n",
    "marks = pd.read_excel('###', header=0)\n",
    "marks.head()"
   ]
  },
  {
   "cell_type": "code",
   "execution_count": null,
   "id": "0393720f",
   "metadata": {},
   "outputs": [],
   "source": [
    "def send_email(recipient: str, msg_text: str, index: int):\n",
    "    \n",
    "    login = open('mail.txt', 'r').read()\n# в файл mail.txt написать адрес почты, с которой будет рассылка, или же просто написать адрес прямо в эту строку\n" ,
    "    password = open('password.txt', 'r').read()\n# в файл password.txt написать пароль от почты, с которой будет рассылка, \n# или же просто написать пароль прямо в эту строку\n",
    "\n",
    "    s = smtplib.SMTP('smtp.yandex.ru', 587, timeout=10)\n",
    "    s.starttls()\n",
    "    s.login(login, password)\n",
    "\n",
    "    \n",
    "    msg = MIMEText(f'{msg_text}', 'plain', 'utf-8')\n",
    "    msg['Subject'] = Header('Текущие оценки по курсу \"###\"', 'utf-8') #тема письма\n", 
    "    msg['From'] = login\n",
    "    msg['To'] = recipient\n",
    "    \n",
    "    \n",
    "    try:\n",
    "        s.sendmail(msg['From'], recipient, msg.as_string())\n",
    "    except Exception as ex:\n",
    "        print(index) # добавила на случай, если код сломается на середине, и нужно будет отправить оставшиеся\n",
    "        print(ex)\n",
    "    finally:\n",
    "        s.quit()"
   ]
  },
  {
   "cell_type": "code",
   "execution_count": null,
   "id": "e9f156e9",
   "metadata": {},
   "outputs": [],
   "source": [
    "for index, row in marks.iterrows():\n",
    "  \n",
    "    name = row['name']\n",
    "    \n",
    "    cur_marks = []\n",
    "    text = ''\n",
    "    for pr in marks.columns[4:]:\n",
    "        if not np.isnan(row[pr]):\n",
    "            cur_marks.append(row[pr])\n",
    "            text += f'Проверочная {pr[-1]}: {int(row[pr])} из 3\\n'\n",
    "    final_text = f'{name}, добрый день! \\n\\nВаши текущие оценки по курсу \"###\": \\n{text}\\nТекущая набранная доля баллов за лекционные проверочные составляет {np.sum(cur_marks)} / 18 ({np.round(np.sum(cur_marks)/18, 2)})\\n\\nС уважением, \\n###'\n",
    "    send_email(row['почта'], final_text, index)\n",
    "    "
   ] 
  }
 ],
 "metadata": {
  "kernelspec": {
   "display_name": "Python 3 (ipykernel)",
   "language": "python",
   "name": "python3"
  },
  "language_info": {
   "codemirror_mode": {
    "name": "ipython",
    "version": 3
   },
   "file_extension": ".py",
   "mimetype": "text/x-python",
   "name": "python",
   "nbconvert_exporter": "python",
   "pygments_lexer": "ipython3",
   "version": "3.9.13"
  }
 },
 "nbformat": 4,
 "nbformat_minor": 5
}
